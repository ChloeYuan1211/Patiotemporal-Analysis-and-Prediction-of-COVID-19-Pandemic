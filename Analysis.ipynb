{
  "cells": [
    {
      "cell_type": "markdown",
      "metadata": {},
      "source": [
        "# 1. Abstract\n",
        "\n",
        "This project aims to explore and predict the spread of the Covid-19 pandemic using spatiotemporal data analysis and data mining techniques.\n",
        "I analyzed the Covid-19 dataset provided by the Shanghai Municipal Health Commission, employing various methods including descriptive exploratory analysis, model fitting, and machine learning to reveal the spatiotemporal patterns of the epidemic's spread."
      ]
    },
    {
      "cell_type": "markdown",
      "metadata": {},
      "source": [
        "# 2. Date source\n",
        "\n",
        "Given China's vastness, we've chosen Shanghai—a leading economic hub known for dynamism, transparency, and innovation—for our study. Its COVID-19 data offers significant insights for model development. With China's outbreak under control since April 2022, our project focuses on data from April 1st to May 4th, a period rich in epidemic information.\n",
        "\n",
        "Our data are from a dataset from ‘Shanghai-COVID-2022’ in GitHub, which is compiled using information from news reports provided by the Shanghai Municipal Health Commission."
      ]
    },
    {
      "cell_type": "markdown",
      "metadata": {},
      "source": [
        "# 3. Processing"
      ]
    },
    {
      "cell_type": "markdown",
      "metadata": {},
      "source": [
        "## 3.1 Exploratory spatiotemporal data analysis\n",
        "\n",
        "In this part, I used methods such as autocorrelation analysis and density estimation to analyze the spatiotemporal patterns in the data. I explored information such as trends in epidemic transmission, high-risk areas, and spatiotemporal correlations.\n",
        "\n",
        "The results of autocorrelation analysis show the autocorrelation coefficients of the total population sequence in the epidemic data at different lag stages. The autocorrelation coefficient of lag 0 is 1, indicating a complete correlation between oneself and oneself. This is because the daily number of confirmed cases has the strongest correlation with oneself, which is a fundamental property of autocorrelation analysis. The autocorrelation coefficient of lag 1 is 0.852, indicating a strong positive correlation between the current number of confirmed cases and the number of confirmed cases from the previous day. This indicates that the number of confirmed cases on the previous day has a significant impact on the number of confirmed cases on that day. Similarly, as the number of lag periods increases, the autocorrelation coefficient gradually decreases, indicating that the correlation between the current number of confirmed cases and the number of confirmed cases at a longer time point in the past is becoming weaker. This autocorrelation analysis result indicates that there is a certain time correlation between the number of confirmed cases in the epidemic data, that is, the number of confirmed cases in the past period will have an impact on the current number of confirmed cases, but as the time interval increases, the correlation gradually weakens (shown in figure 1)"
      ]
    },
{
  "cell_type": "markdown",
  "metadata": {},
  "source": [
    "![Autocorrelation of Confirmed Cases in Shanghai](https://github.com/ChloeYuan1211/Patiotemporal-Analysis-and-Prediction-of-COVID-19-Pandemic/blob/main/image/figure%201%20Autocorrelation%20of%20Confirmed%20Cases%20in%20Shanghai.png)"
  ]
}
    {
      "cell_type": "code",
      "execution_count": null,
      "metadata": {},
      "outputs": [],
      "source": [
        "# Import the required libraries\n",
        "library(tidyverse)  # For data manipulation\n",
        "library(lubridate)  # For handling date and time data\n",
        "library(spdep)      # For spatial data processing\n",
        "library(ggplot2)    # For data visualization\n",
        "library(readxl)\n",
        "library(tseries)\n",
        "library(xts)\n",
        "library(urca)\n",
        "library(forecast)\n",
        "shanghai <- read_excel(\"shanghai.xlsx\")\n",
        "# Import the data\n",
        "\n",
        "colnames(shanghai)<-c(\"Date\",\"Xuhui\",\"Songjiang\",\"Huangpu\",\"Jiading\",\"Hongkou\",\"Yangpu\",\"Putuo\",\"Qingpu\",\"Jingan\", \"Jinshan\",\"Fengxian\",\"Chongming\",\"Changning\",\"Baoshan\",\"minhang\",\"Pudong new\",\"Total\")\n",
        "covid_data <- shanghai\n",
        "# Convert the date column to date format\n",
        "covid_data$Date <- as.Date(covid_data$Date)\n",
        "\n",
        "# Perform autocorrelation analysis\n",
        "# Calculate the autocorrelation coefficients for the total number of confirmed cases in Shanghai\n",
        "acf_result <- acf(covid_data$Total, lag.max = 10, plot = FALSE)\n",
        "\n",
        "# Plot the autocorrelation coefficients\n",
        "plot(acf_result, main = \"Autocorrelation of Confirmed Cases in Shanghai\", ylab = \"Autocorrelation\", xlab = \"Lag\")\n",
        "\n",
        "# Perform density estimation\n",
        "# Plot the density estimation for the total number of confirmed cases in Shanghai\n",
        "ggplot(covid_data, aes(x = Total)) +\n",
        "  geom_density(fill = \"blue\", alpha = 0.5) +\n",
        "  labs(title = \"Density Estimation of Confirmed Cases in Shanghai\", x = \"Confirmed Cases\", y = \"Density\")"
      ]
    },
    {
      "cell_type": "markdown",
      "metadata": {},
      "source": [
        "## 3.2 Data organization and visualization\n",
        "\n",
        "To effectively illustrate Shanghai's daily pandemic scenario during this period, I have visualized the daily pandemic data. I have read the pandemic district data for Shanghai, removed missing data, and defined the date data as a date type. I calculated the cumulative data for each district on a given day and reconstructed and sorted the data. I also calculated the daily new data for Shanghai and plotted a dynamic chart showing the cumulative growth of daily data for each district in Shanghai.\n",
        "\n",
        "From the chart, it can be observed that the Pudong New Area has the most severe pandemic situation, with the number of infected individuals far exceeding those in other districts. Minhang District follows with the next most serious situation; Huangpu District and Baoshan District have relatively faster growth rates. The districts with the mildest pandemic situations are Fengxian District, Chongming District, and Jinshan District, followed by Qingpu District and Changning District."
      ]
    },
    {
      "cell_type": "code",
      "execution_count": null,
      "metadata": {},
      "outputs": [],
      "source": [
        "# Import the required libraries\n",
        "library(reshape2)\n",
        "library(ggplot2)\n",
        "library(gganimate)\n",
        "library(gifski)\n",
        "library(rlang)\n",
        "library(dplyr)\n",
        "library(segmented)\n",
        "\n",
        "# Remove N/A data\n",
        "Raw_Data <- na.omit(covid_data)\n",
        "\n",
        "# Calculate the cumulative data for each district per day and save it as Acc_Raw_Data\n",
        "N <- dim(Raw_Data)[1]\n",
        "Acc_Raw_Data <- Raw_Data\n",
        "for(i in 2:N){Acc_Raw_Data[i,-1] <- Acc_Raw_Data[i-1,-1]+Raw_Data[i,-1]}\n",
        "\n",
        "# tidy the data\n",
        "Acc_Data <- melt(Acc_Raw_Data,id=\"Date\")\n",
        "# sort the data in descending order\n",
        "Acc_Data_New <- Acc_Data %>% group_by(Date) %>% arrange(desc(value)) %>% \n",
        "  mutate(rank=row_number()) %>% ungroup()\n",
        "\n",
        "Raw_Data$total <- rowSums(Raw_Data[,2:17])\n",
        "Fit_Data <- data.frame(Date=Raw_Data$Date,x=c(1:34),total=Raw_Data$total)\n",
        "\n",
        "# Draw the dynamic bar chart of the cumulative increase in each district\n",
        "# Draw a simple static bar chart\n",
        "plot1 <- ggplot(Acc_Data_New,aes(x=desc(rank),y=value,group=variable))+\n",
        "  geom_bar(stat = \"identity\",aes(fill=as.factor(variable),color=as.factor(variable)))\n",
        "plot1 <- plot1+coord_flip()\n",
        "\n",
        "# Add labels\n",
        "plot1 <- plot1+geom_text(aes(label=value,vjust=0.5,hjust=0,color=factor(variable)))\n",
        "plot1 <- plot1+geom_text(aes(y=0,label=paste(variable,\"\"),color=factor(variable)),\n",
        "                         vjust=0.5,hjust=1,size=4)\n",
        "# Set the chart format\n",
        "plot1 <- plot1+theme_classic()+\n",
        "  theme(axis.line = element_blank(),axis.ticks = element_blank(),\n",
        "        axis.title.x = element_blank(),axis.text.x = element_blank(),\n",
        "        axis.text.y=element_blank(),axis.title.y = element_blank(),\n",
        "        legend.position = \"none\",)\n",
        "# Generate the animation\n",
        "animate(plot1+transition_states(Date,transition_length = 2,state_length = 1),\n",
        "        renderer = gifski_renderer(),width=1100,height=500,nframes = 200,fps = 8)\n",
        "# Draw the static bar chart of the cumulative increase in each district\n",
        "colnames(Acc_Raw_Data)<-c(\"Date\",\"Xuhui distric\",\"Songjiang distric\",\"Huangpu distric\",\"Jiading distric\",\"Hongkou distric\",\"Yangpu distric\",\"Putuo distric\",\"Qingpu distric\",\"Jingan distric\", \"Jinshan distric\",\"Fengxian distric\",\"Chongming distric\",\"Changning distric\",\"Baoshan distric\",\"minhang distric\",\"Pudong new distric\",\"Total\")\n",
        "Acc_Data <- melt(Acc_Raw_Data,id=\"Date\")\n",
        "Acc_Data$Date<-as.Date(as.character(Acc_Data$Date),\"%Y-%m-%d\")\n",
        "plot2 <- ggplot(Acc_Data,aes(x=Date,y=value,fill=variable))+\n",
        "  scale_x_date(date_labels = \"%m-%d\", date_breaks = \"10 days\")\n",
        "plot2 <- plot2+geom_bar(stat = \"identity\",position = \"stack\")+facet_wrap(~variable)\n",
        "plot2 <- plot2+theme_light()\n",
        "\n",
        "# Set the legend format\n",
        "plot2 <- plot2+theme(legend.title = element_blank(),legend.text = element_text(size=10))\n",
        "# Set the horizontal and vertical labels, chart title, etc.\n",
        "plot2 <- plot2+labs(x=\"Date\",y=\"Cumulative increase\",\n",
        "                    title = \"Statistical plot of Cumulative Number of New Cases in Each District of Shanghai City \",tag = \"Fig.2\")+\n",
        "  theme(plot.title = element_text(hjust = 0.5,face = \"bold\",size = 15))\n",
        "\n",
        "plot2"
      ]
    }
  ],
  "metadata": {
    "kernelspec": {
      "display_name": "R",
      "language": "R",
      "name": "ir"
    },
    "language_info": {
      "codemirror_mode": "r",
      "file_extension": ".r",
      "mimetype": "text/x-r-source",
      "name": "R",
      "pygments_lexer": "r",
      "version": "4.2.2"
    }
  },
  "nbformat": 4,
  "nbformat_minor": 5
}
